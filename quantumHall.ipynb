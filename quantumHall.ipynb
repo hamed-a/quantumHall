{
 "cells": [
  {
   "cell_type": "code",
   "execution_count": 1,
   "metadata": {},
   "outputs": [],
   "source": [
    "from src.quantumHall import QuantumHall\n",
    "import numpy as np"
   ]
  },
  {
   "cell_type": "markdown",
   "metadata": {},
   "source": [
    "# Quantum Hall\n",
    "The mode $i$ carries charge current $I_i(x)$ and heat current $J_i(x)$ at each point $x$ along the edge of the quantum Hall  bar.\n",
    "These modes equilibrate through kinetic equations:\n",
    "- Charge kinetic equation:\n",
    "$\\forall i: \\partial_x I_i(x) =\\sum_j g^e_{ij}\\sigma_0 (V_{j}(x)-V_{i}(x)) $\n",
    "- Heat kinetic equation:\n",
    "$\\forall i: \\partial_x J_i(x) =\\sum_j\\frac{1}{2}\\kappa_0 g^Q_{ij} (T^2_{j}(x)-T^2_{i}(x)) $\n",
    "\n",
    "With\n",
    "- $V_i(x)$ and $T_i(x)$ are the local voltage and temperature, respectively.\n",
    "- $\\sigma_0=e^2/h$ is the quantum of Hall conductance.\n",
    "- $\\kappa_0=(\\pi k_B)^2/3h$ where $k_B$ is the Boltzmann constant."
   ]
  },
  {
   "cell_type": "markdown",
   "metadata": {},
   "source": [
    "## Initialize\n",
    "- The matrix with entries $g^e_{ij}$ is the variable `charge_conduct_matrix`. \n",
    "- The matrix with entries $g^Q_{ij}$ is the variable `heat_conduct_matrix`.\n",
    "\n",
    "The unit for both matricese is $1/\\text{<unit of length>}$ where $\\text{<unit of length>}$ is the unit of `inter_terminal_length_vector`."
   ]
  },
  {
   "cell_type": "code",
   "execution_count": 9,
   "metadata": {},
   "outputs": [],
   "source": [
    "num_modes = 3\n",
    "np.random.seed(13)\n",
    "charge_conduct_matrix = np.random.rand( num_modes,num_modes )\n",
    "heat_conduct_matrix = np.random.rand( num_modes,num_modes )\n",
    "qh = QuantumHall(chirality_vector=[1,-1,1],\n",
    "                 charge_vector=[2,1,1/2], charge_conduct_matrix=charge_conduct_matrix,\n",
    "                 central_charge_vector=[1,1,1/2], heat_conduct_matrix = heat_conduct_matrix,\n",
    "                 voltages = [0,1,2], temperatures=[1,2,5],inter_terminal_length_vector = [1,2,3]\n",
    "                )"
   ]
  },
  {
   "cell_type": "markdown",
   "metadata": {},
   "source": [
    "## Find the output current for all terminals\n",
    "- In units of $(e^2/h).\\text{<input voltage unit>}$:"
   ]
  },
  {
   "cell_type": "code",
   "execution_count": 4,
   "metadata": {},
   "outputs": [
    {
     "data": {
      "text/plain": [
       "array([ 4.63334605, -2.76278308, -1.87056297])"
      ]
     },
     "execution_count": 4,
     "metadata": {},
     "output_type": "execute_result"
    }
   ],
   "source": [
    "qh.current_all_terminals('charge',unit='quantized')"
   ]
  },
  {
   "cell_type": "markdown",
   "metadata": {},
   "source": [
    "- In units of $(Amperes/Volts).\\text{<input voltage unit>}$:"
   ]
  },
  {
   "cell_type": "code",
   "execution_count": 5,
   "metadata": {},
   "outputs": [
    {
     "data": {
      "text/plain": [
       "array([ 1.79497679e-04, -1.07031322e-04, -7.24663577e-05])"
      ]
     },
     "execution_count": 5,
     "metadata": {},
     "output_type": "execute_result"
    }
   ],
   "source": [
    "qh.current_all_terminals('charge',unit='SI')"
   ]
  },
  {
   "cell_type": "markdown",
   "metadata": {},
   "source": [
    "## Two-terminal conductance\n",
    "### Electrical:\n",
    "The unit is $e^2/h$"
   ]
  },
  {
   "cell_type": "code",
   "execution_count": 10,
   "metadata": {},
   "outputs": [
    {
     "data": {
      "text/plain": [
       "2.7489602845110186"
      ]
     },
     "execution_count": 10,
     "metadata": {},
     "output_type": "execute_result"
    }
   ],
   "source": [
    "terminal_1, terminal_2 = 1,3\n",
    "qh.two_terminal_conductance( (terminal_1, terminal_2), quantity='charge' )"
   ]
  },
  {
   "cell_type": "markdown",
   "metadata": {},
   "source": [
    "### Thermal:\n",
    "The unit is $\\kappa_0 T$ where $T$ is the average temperature."
   ]
  },
  {
   "cell_type": "code",
   "execution_count": 11,
   "metadata": {},
   "outputs": [
    {
     "data": {
      "text/plain": [
       "2.2705093776119494"
      ]
     },
     "execution_count": 11,
     "metadata": {},
     "output_type": "execute_result"
    }
   ],
   "source": [
    "terminal_1, terminal_2 = 1,2\n",
    "qh.two_terminal_conductance( (terminal_1, terminal_2), quantity='heat' )"
   ]
  },
  {
   "cell_type": "markdown",
   "metadata": {},
   "source": [
    "## Four-terminal conductance"
   ]
  },
  {
   "cell_type": "markdown",
   "metadata": {},
   "source": [
    "### Electrical:\n",
    "The unit is $e^2/h$"
   ]
  },
  {
   "cell_type": "code",
   "execution_count": 14,
   "metadata": {},
   "outputs": [
    {
     "data": {
      "text/plain": [
       "-60.78196173462871"
      ]
     },
     "execution_count": 14,
     "metadata": {},
     "output_type": "execute_result"
    }
   ],
   "source": [
    "current_terminal_1, current_terminal_2 = 1,3\n",
    "voltage_terminal_1, voltage_terminal_2 = 1,2\n",
    "qh.four_terminal_conductance( (current_terminal_1, current_terminal_2), (voltage_terminal_1, voltage_terminal_2) , quantity='charge' )"
   ]
  },
  {
   "cell_type": "markdown",
   "metadata": {},
   "source": [
    "### Thermal:\n",
    "The unit is $\\kappa_0 T$ where $T$ is the average temperature."
   ]
  },
  {
   "cell_type": "code",
   "execution_count": 15,
   "metadata": {},
   "outputs": [
    {
     "data": {
      "text/plain": [
       "-8.354733769003017"
      ]
     },
     "execution_count": 15,
     "metadata": {},
     "output_type": "execute_result"
    }
   ],
   "source": [
    "current_terminal_1, current_terminal_2 = 1,3\n",
    "voltage_terminal_1, voltage_terminal_2 = 1,2\n",
    "qh.four_terminal_conductance( (current_terminal_1, current_terminal_2), (voltage_terminal_1, voltage_terminal_2) , quantity='heat' )"
   ]
  },
  {
   "cell_type": "code",
   "execution_count": null,
   "metadata": {},
   "outputs": [],
   "source": []
  }
 ],
 "metadata": {
  "kernelspec": {
   "display_name": "Python 3",
   "language": "python",
   "name": "python3"
  },
  "language_info": {
   "codemirror_mode": {
    "name": "ipython",
    "version": 3
   },
   "file_extension": ".py",
   "mimetype": "text/x-python",
   "name": "python",
   "nbconvert_exporter": "python",
   "pygments_lexer": "ipython3",
   "version": "3.9.1"
  }
 },
 "nbformat": 4,
 "nbformat_minor": 4
}
